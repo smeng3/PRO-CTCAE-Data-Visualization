{
 "cells": [
  {
   "cell_type": "code",
   "execution_count": 14,
   "metadata": {},
   "outputs": [],
   "source": [
    "import datetime\n",
    "import pandas as pd \n",
    "import numpy as np\n",
    "import plotly.express as px\n",
    "import plotly.graph_objects as go\n",
    "#load data\n",
    "rawdata = pd.read_csv(r\"C:\\Users\\smeng3\\Desktop\\Summer_Proj\\Proctcae301.csv\",low_memory=False) "
   ]
  },
  {
   "cell_type": "code",
   "execution_count": 15,
   "metadata": {},
   "outputs": [],
   "source": [
    "# pre processing on data type including str to num, range changes (value 4 merged to 3)\n",
    "def pre_processing(data,columns):\n",
    "    data_slides = []\n",
    "    for i in range(len(columns)):\n",
    "        data[columns[i]] = pd.to_numeric(data[columns[i]], errors='coerce')\n",
    "        if i > 1:\n",
    "            data[columns[i]]=data[columns[i]]-1\n",
    "        data.loc[(data[columns[0]] == 1)&(data[columns[i]].isnull()), columns[i]] = 0\n",
    "        data.loc[(data[columns[i]] == 4), columns[i]] = 3\n",
    "        if i > 0:\n",
    "            data_slides.append(data[[\"gapid\",columns[i],\"Assessment\"]])\n",
    "    return data_slides"
   ]
  },
  {
   "cell_type": "code",
   "execution_count": 16,
   "metadata": {},
   "outputs": [],
   "source": [
    "data_slides = pre_processing(rawdata.copy(),[\"PRONever3\",\"PRO3a\",\"PRO3b\",\"PRO3c\"])"
   ]
  },
  {
   "cell_type": "code",
   "execution_count": 17,
   "metadata": {},
   "outputs": [],
   "source": [
    "# add time lable into dataframe\n",
    "def tsp_time(data_slides):\n",
    "    results = []\n",
    "    for data in data_slides:\n",
    "        name = [\"_Baseline\",\"_4_6_weeks\",\"_3_month\",\"_6_month\"]\n",
    "        for i in [1,2,3]:\n",
    "            if i ==1:\n",
    "                res = data[(data.loc[:,\"Assessment\"]==i)].iloc[:, :-1].set_index('gapid')\n",
    "            res_b = data[(data.loc[:,\"Assessment\"]==i+1)].iloc[:, :-1]\n",
    "            res = res.join(res_b.set_index('gapid'), lsuffix=name[i-1], rsuffix=name[i])\n",
    "        results.append(res)\n",
    "    return results"
   ]
  },
  {
   "cell_type": "code",
   "execution_count": 18,
   "metadata": {},
   "outputs": [],
   "source": [
    "results = tsp_time(data_slides)"
   ]
  },
  {
   "cell_type": "code",
   "execution_count": 19,
   "metadata": {},
   "outputs": [],
   "source": [
    "# check missing value (ex:patient have 4-6 weeks data but no baseline data)\n",
    "def err_check(results):\n",
    "    err_results ,drop_out_summary = [], []\n",
    "    for df in results:\n",
    "        err_1 = df[(df.iloc[:,0].isnull()) & ((df.iloc[:,1].isnull()==False)|(df.iloc[:,2].isnull()==False)|(df.iloc[:,3].isnull()==False))]\n",
    "        err_2 = df[(df.iloc[:,1].isnull()) & ((df.iloc[:,2].isnull()==False)|(df.iloc[:,3].isnull()==False))]\n",
    "        err_3 = df[(df.iloc[:,2].isnull()) & (df.iloc[:,3].isnull()==False)]\n",
    "        err = err_1.append(err_2).append(err_3)\n",
    "        drop_out_1 = df[(df.iloc[:,0].isnull()==False)&((df.iloc[:,1].isnull())&(df.iloc[:,2].isnull())&(df.iloc[:,3].isnull()))]\n",
    "        drop_out_2 = df[(df.iloc[:,0].isnull()==False)&((df.iloc[:,1].isnull()==False)&(df.iloc[:,2].isnull())&(df.iloc[:,3].isnull()))]\n",
    "        drop_out_3 = df[(df.iloc[:,0].isnull()==False)&((df.iloc[:,1].isnull()==False)&(df.iloc[:,2].isnull()==False)&(df.iloc[:,3].isnull()))]\n",
    "        data = {'Number of patients':[len(drop_out_1.index),len(drop_out_2.index),len(drop_out_3.index)]} \n",
    "        drop_out_data = pd.DataFrame(data, index =['After Baseline', 'After 4-6 Weeks', 'After 3 Month']) \n",
    "        err_results.append(err)\n",
    "        drop_out_summary.append(drop_out_data)\n",
    "    return err_results,drop_out_summary"
   ]
  },
  {
   "cell_type": "code",
   "execution_count": 20,
   "metadata": {},
   "outputs": [],
   "source": [
    "err_results,drop_out_summary = err_check(results.copy())"
   ]
  },
  {
   "cell_type": "code",
   "execution_count": 21,
   "metadata": {},
   "outputs": [],
   "source": [
    "# detect patient drop out\n",
    "def drop_out_check(results):\n",
    "    new_result = results.copy()\n",
    "    for each in new_result:\n",
    "        each.loc[(each.iloc[:,0].isnull()== False)&(each.iloc[:,1].isnull())\\\n",
    "                 &(each.iloc[:,2].isnull())&(each.iloc[:,3].isnull()),each.columns[1]] = 4\n",
    "        each.loc[(each.iloc[:,0].isnull()== False)&(each.iloc[:,1].isnull()== False)\\\n",
    "                 &(each.iloc[:,2].isnull())&(each.iloc[:,3].isnull()),each.columns[2]] = 4\n",
    "        each.loc[(each.iloc[:,0].isnull()== False)&(each.iloc[:,1].isnull()== False)\\\n",
    "                 &(each.iloc[:,2].isnull()== False)&(each.iloc[:,3].isnull()),each.columns[3]] = 4\n",
    "    return new_result"
   ]
  },
  {
   "cell_type": "code",
   "execution_count": 22,
   "metadata": {},
   "outputs": [],
   "source": [
    "results = drop_out_check(results)"
   ]
  },
  {
   "cell_type": "code",
   "execution_count": 23,
   "metadata": {},
   "outputs": [],
   "source": [
    "# extract links from dataframe for sankey diagram\n",
    "def get_link (df,num):\n",
    "    column,column_len= df.columns, num\n",
    "    \n",
    "    res_1 = (df).groupby([column[0],column[1]]).size().reset_index(name='counts')\n",
    "    res_2 = (df).groupby([column[1],column[2]]).size().reset_index(name='counts')\n",
    "    res_3 = (df).groupby([column[2],column[3]]).size().reset_index(name='counts')\n",
    "\n",
    "    source = np.append(np.append(res_1.iloc[:,0].values,res_2.iloc[:,0].values+(column_len)),res_3.iloc[:,0].values+(column_len*2+1))\n",
    "    target = np.append( np.append(res_1.iloc[:,1].values+(column_len),res_2.iloc[:,1].values+(column_len*2+1)),res_3.iloc[:,1].values+(column_len*3+2))\n",
    "    value = np.append(np.append(res_1.iloc[:,2].values,res_2.iloc[:,2].values),res_3.iloc[:,2].values)\n",
    "    \n",
    "    err_source = np.append(np.append(res_1.iloc[:,0].values,res_2.iloc[:,0].values),res_3.iloc[:,0].values)\n",
    "\n",
    "    err_target = np.append(np.append(res_1.iloc[:,1].values,res_2.iloc[:,1].values),res_3.iloc[:,1].values)\n",
    "    \n",
    "    link = pd.DataFrame({'source':source,'target':target,\"value\":value,\"err_source\":err_source,\"err_target\":err_target})\n",
    "    \n",
    "    link[\"value_rank\"]=link.groupby([\"target\"])[\"value\"].rank(method='dense').astype(int)\n",
    "    link[\"overall_rank\"]=link[\"value\"].rank(method='dense').astype(int)\n",
    "    link[\"rank\"]=link[\"overall_rank\"]-link[\"value_rank\"]+1\n",
    "    link[\"alpha\"]=1/((link[\"rank\"])**(1/2))\n",
    "    \n",
    "    node = pd.DataFrame({\"source\":[0,1,2,3,4,5,6,7,8,9,10,11,12,13,14,15,16,17,18],\n",
    "                     \"node_color\":[px.colors.colorbrewer.Paired[3],px.colors.colorbrewer.Set1[5],px.colors.colorbrewer.Paired[7],px.colors.colorbrewer.Paired[5],\n",
    "                                   px.colors.colorbrewer.Paired[3],px.colors.colorbrewer.Set1[5],px.colors.colorbrewer.Paired[7],px.colors.colorbrewer.Paired[5],px.colors.carto.Prism[10],\n",
    "                                   px.colors.colorbrewer.Paired[3],px.colors.colorbrewer.Set1[5],px.colors.colorbrewer.Paired[7],px.colors.colorbrewer.Paired[5],px.colors.carto.Prism[10],\n",
    "                                   px.colors.colorbrewer.Paired[3],px.colors.colorbrewer.Set1[5],px.colors.colorbrewer.Paired[7],px.colors.colorbrewer.Paired[5],px.colors.carto.Prism[10]]\n",
    "                        })\n",
    "    link = link.join(node.set_index('source'), on='source')\n",
    "\n",
    "    link[\"alpha\"] = link[\"alpha\"].astype(str)\n",
    "\n",
    "    link[\"link_color\"]=link[\"node_color\"].str[:3]+\"a\"+link[\"node_color\"].str[3:-1]+\",\"+link[\"alpha\"]+\")\"\n",
    "    \n",
    "    return source,target,value,node,link"
   ]
  },
  {
   "cell_type": "code",
   "execution_count": 24,
   "metadata": {},
   "outputs": [],
   "source": [
    "results[0] = results[0].copy().drop(err_results[0].index)\n",
    "results[1] = results[1].copy().drop(err_results[1].index)\n",
    "results[2] = results[2].copy().drop(err_results[2].index)"
   ]
  },
  {
   "cell_type": "code",
   "execution_count": 25,
   "metadata": {},
   "outputs": [],
   "source": [
    "# plot graph\n",
    "def ploting(label,title,link,node):\n",
    "    fig = go.Figure(data=[go.Sankey(visible = True,arrangement = \"perpendicular\",valuesuffix = \" Patients\",node = dict(pad = 50,thickness = 20,line = dict(color = \"black\", width = 0.5),label = label, color = node[\"node_color\"]),\n",
    "    link = dict(source = link[\"source\"],target = link[\"target\"] ,value = link[\"value\"] ,color= link[\"link_color\"].values))])\n",
    "    fig.update_layout(title=title,height = 1080,width = 1920,font = dict(size = 20), \n",
    "                      annotations=[go.layout.Annotation(x=-0.02,y=-0.15,showarrow=False,text=\"Baseline\",xref=\"paper\",yref=\"paper\"),\n",
    "                                   go.layout.Annotation(x=0.30,y=-0.15,showarrow=False,text=\"4-6 Weeks\",xref=\"paper\",yref=\"paper\"),\n",
    "                                   go.layout.Annotation(x=0.74,y=-0.15,showarrow=False,text=\"3 Month Follow-up\",xref=\"paper\",yref=\"paper\"),\n",
    "                                   go.layout.Annotation(x=1.05,y=-0.15,showarrow=False,text=\"6 Month Follow-up\",xref=\"paper\",yref=\"paper\")])\n",
    "    fig.show()"
   ]
  },
  {
   "cell_type": "code",
   "execution_count": 26,
   "metadata": {},
   "outputs": [
    {
     "data": {
      "application/vnd.plotly.v1+json": {
       "config": {
        "plotlyServerURL": "https://plot.ly"
       },
       "data": [
        {
         "arrangement": "perpendicular",
         "link": {
          "color": [
           "rgba(51,160,44,0.2672612419124244)",
           "rgba(51,160,44,0.3779644730092272)",
           "rgba(51,160,44,0.7071067811865475)",
           "rgba(51,160,44,1.0)",
           "rgba(51,160,44,0.31622776601683794)",
           "rgba(255,255,51,0.35355339059327373)",
           "rgba(255,255,51,0.4082482904638631)",
           "rgba(255,255,51,0.7071067811865475)",
           "rgba(255,255,51,0.5)",
           "rgba(255,127,0,0.7071067811865475)",
           "rgba(255,127,0,1.0)",
           "rgba(255,127,0,1.0)",
           "rgba(255,127,0,1.0)",
           "rgba(227,26,28,0.7071067811865475)",
           "rgba(227,26,28,1.0)",
           "rgba(227,26,28,1.0)",
           "rgba(227,26,28,1.0)",
           "rgba(51,160,44,0.2672612419124244)",
           "rgba(51,160,44,0.4472135954999579)",
           "rgba(51,160,44,1.0)",
           "rgba(51,160,44,1.0)",
           "rgba(51,160,44,0.3333333333333333)",
           "rgba(255,255,51,0.4082482904638631)",
           "rgba(255,255,51,0.4472135954999579)",
           "rgba(255,255,51,1.0)",
           "rgba(255,255,51,0.7071067811865475)",
           "rgba(255,127,0,0.5773502691896258)",
           "rgba(255,127,0,1.0)",
           "rgba(255,127,0,1.0)",
           "rgba(255,127,0,0.7071067811865475)",
           "rgba(227,26,28,0.5773502691896258)",
           "rgba(227,26,28,1.0)",
           "rgba(102, 102, 102,0.31622776601683794)",
           "rgba(51,160,44,0.2773500981126146)",
           "rgba(51,160,44,0.4472135954999579)",
           "rgba(51,160,44,0.5)",
           "rgba(51,160,44,1.0)",
           "rgba(51,160,44,0.3333333333333333)",
           "rgba(255,255,51,0.5)",
           "rgba(255,255,51,0.7071067811865475)",
           "rgba(255,255,51,1.0)",
           "rgba(255,255,51,0.5773502691896258)",
           "rgba(255,127,0,1.0)",
           "rgba(255,127,0,1.0)",
           "rgba(255,127,0,1.0)",
           "rgba(227,26,28,1.0)",
           "rgba(102, 102, 102,0.30151134457776363)"
          ],
          "source": [
           0,
           0,
           0,
           0,
           0,
           1,
           1,
           1,
           1,
           2,
           2,
           2,
           2,
           3,
           3,
           3,
           3,
           4,
           4,
           4,
           4,
           4,
           5,
           5,
           5,
           5,
           6,
           6,
           6,
           6,
           7,
           7,
           8,
           9,
           9,
           9,
           9,
           9,
           10,
           10,
           10,
           10,
           11,
           11,
           11,
           12,
           13
          ],
          "target": [
           4,
           5,
           6,
           7,
           8,
           4,
           5,
           6,
           8,
           4,
           5,
           7,
           8,
           4,
           5,
           6,
           7,
           9,
           10,
           11,
           12,
           13,
           9,
           10,
           11,
           13,
           9,
           10,
           12,
           13,
           9,
           10,
           13,
           14,
           15,
           16,
           17,
           18,
           14,
           15,
           17,
           18,
           14,
           15,
           18,
           15,
           18
          ],
          "value": [
           193,
           9,
           3,
           1,
           35,
           16,
           7,
           3,
           5,
           3,
           1,
           2,
           1,
           2,
           1,
           1,
           1,
           172,
           6,
           1,
           1,
           34,
           7,
           6,
           2,
           3,
           3,
           1,
           1,
           2,
           3,
           1,
           41,
           137,
           8,
           4,
           2,
           34,
           5,
           4,
           1,
           4,
           1,
           1,
           1,
           2,
           80
          ]
         },
         "node": {
          "color": [
           "rgb(51,160,44)",
           "rgb(255,255,51)",
           "rgb(255,127,0)",
           "rgb(227,26,28)",
           "rgb(51,160,44)",
           "rgb(255,255,51)",
           "rgb(255,127,0)",
           "rgb(227,26,28)",
           "rgb(102, 102, 102)",
           "rgb(51,160,44)",
           "rgb(255,255,51)",
           "rgb(255,127,0)",
           "rgb(227,26,28)",
           "rgb(102, 102, 102)",
           "rgb(51,160,44)",
           "rgb(255,255,51)",
           "rgb(255,127,0)",
           "rgb(227,26,28)",
           "rgb(102, 102, 102)"
          ],
          "label": [
           "Never",
           "Rarely",
           "Occasionally",
           "Frequently - Almost Constantly",
           "Never",
           "Rarely",
           "Occasionally",
           "Frequently - Almost Constantly",
           "DropOut",
           "Never",
           "Rarely",
           "Occasionally",
           "Frequently - Almost Constantly",
           "DropOut",
           "Never",
           "Rarely",
           "Occasionally",
           "Frequently - Almost Constantly",
           "Dropout"
          ],
          "line": {
           "color": "black",
           "width": 0.5
          },
          "pad": 50,
          "thickness": 20
         },
         "type": "sankey",
         "valuesuffix": " Patients",
         "visible": true
        }
       ],
       "layout": {
        "annotations": [
         {
          "showarrow": false,
          "text": "Baseline",
          "x": -0.02,
          "xref": "paper",
          "y": -0.15,
          "yref": "paper"
         },
         {
          "showarrow": false,
          "text": "4-6 Weeks",
          "x": 0.3,
          "xref": "paper",
          "y": -0.15,
          "yref": "paper"
         },
         {
          "showarrow": false,
          "text": "3 Month Follow-up",
          "x": 0.74,
          "xref": "paper",
          "y": -0.15,
          "yref": "paper"
         },
         {
          "showarrow": false,
          "text": "6 Month Follow-up",
          "x": 1.05,
          "xref": "paper",
          "y": -0.15,
          "yref": "paper"
         }
        ],
        "font": {
         "size": 20
        },
        "height": 1080,
        "template": {
         "data": {
          "bar": [
           {
            "error_x": {
             "color": "#2a3f5f"
            },
            "error_y": {
             "color": "#2a3f5f"
            },
            "marker": {
             "line": {
              "color": "#E5ECF6",
              "width": 0.5
             }
            },
            "type": "bar"
           }
          ],
          "barpolar": [
           {
            "marker": {
             "line": {
              "color": "#E5ECF6",
              "width": 0.5
             }
            },
            "type": "barpolar"
           }
          ],
          "carpet": [
           {
            "aaxis": {
             "endlinecolor": "#2a3f5f",
             "gridcolor": "white",
             "linecolor": "white",
             "minorgridcolor": "white",
             "startlinecolor": "#2a3f5f"
            },
            "baxis": {
             "endlinecolor": "#2a3f5f",
             "gridcolor": "white",
             "linecolor": "white",
             "minorgridcolor": "white",
             "startlinecolor": "#2a3f5f"
            },
            "type": "carpet"
           }
          ],
          "choropleth": [
           {
            "colorbar": {
             "outlinewidth": 0,
             "ticks": ""
            },
            "type": "choropleth"
           }
          ],
          "contour": [
           {
            "colorbar": {
             "outlinewidth": 0,
             "ticks": ""
            },
            "colorscale": [
             [
              0,
              "#0d0887"
             ],
             [
              0.1111111111111111,
              "#46039f"
             ],
             [
              0.2222222222222222,
              "#7201a8"
             ],
             [
              0.3333333333333333,
              "#9c179e"
             ],
             [
              0.4444444444444444,
              "#bd3786"
             ],
             [
              0.5555555555555556,
              "#d8576b"
             ],
             [
              0.6666666666666666,
              "#ed7953"
             ],
             [
              0.7777777777777778,
              "#fb9f3a"
             ],
             [
              0.8888888888888888,
              "#fdca26"
             ],
             [
              1,
              "#f0f921"
             ]
            ],
            "type": "contour"
           }
          ],
          "contourcarpet": [
           {
            "colorbar": {
             "outlinewidth": 0,
             "ticks": ""
            },
            "type": "contourcarpet"
           }
          ],
          "heatmap": [
           {
            "colorbar": {
             "outlinewidth": 0,
             "ticks": ""
            },
            "colorscale": [
             [
              0,
              "#0d0887"
             ],
             [
              0.1111111111111111,
              "#46039f"
             ],
             [
              0.2222222222222222,
              "#7201a8"
             ],
             [
              0.3333333333333333,
              "#9c179e"
             ],
             [
              0.4444444444444444,
              "#bd3786"
             ],
             [
              0.5555555555555556,
              "#d8576b"
             ],
             [
              0.6666666666666666,
              "#ed7953"
             ],
             [
              0.7777777777777778,
              "#fb9f3a"
             ],
             [
              0.8888888888888888,
              "#fdca26"
             ],
             [
              1,
              "#f0f921"
             ]
            ],
            "type": "heatmap"
           }
          ],
          "heatmapgl": [
           {
            "colorbar": {
             "outlinewidth": 0,
             "ticks": ""
            },
            "colorscale": [
             [
              0,
              "#0d0887"
             ],
             [
              0.1111111111111111,
              "#46039f"
             ],
             [
              0.2222222222222222,
              "#7201a8"
             ],
             [
              0.3333333333333333,
              "#9c179e"
             ],
             [
              0.4444444444444444,
              "#bd3786"
             ],
             [
              0.5555555555555556,
              "#d8576b"
             ],
             [
              0.6666666666666666,
              "#ed7953"
             ],
             [
              0.7777777777777778,
              "#fb9f3a"
             ],
             [
              0.8888888888888888,
              "#fdca26"
             ],
             [
              1,
              "#f0f921"
             ]
            ],
            "type": "heatmapgl"
           }
          ],
          "histogram": [
           {
            "marker": {
             "colorbar": {
              "outlinewidth": 0,
              "ticks": ""
             }
            },
            "type": "histogram"
           }
          ],
          "histogram2d": [
           {
            "colorbar": {
             "outlinewidth": 0,
             "ticks": ""
            },
            "colorscale": [
             [
              0,
              "#0d0887"
             ],
             [
              0.1111111111111111,
              "#46039f"
             ],
             [
              0.2222222222222222,
              "#7201a8"
             ],
             [
              0.3333333333333333,
              "#9c179e"
             ],
             [
              0.4444444444444444,
              "#bd3786"
             ],
             [
              0.5555555555555556,
              "#d8576b"
             ],
             [
              0.6666666666666666,
              "#ed7953"
             ],
             [
              0.7777777777777778,
              "#fb9f3a"
             ],
             [
              0.8888888888888888,
              "#fdca26"
             ],
             [
              1,
              "#f0f921"
             ]
            ],
            "type": "histogram2d"
           }
          ],
          "histogram2dcontour": [
           {
            "colorbar": {
             "outlinewidth": 0,
             "ticks": ""
            },
            "colorscale": [
             [
              0,
              "#0d0887"
             ],
             [
              0.1111111111111111,
              "#46039f"
             ],
             [
              0.2222222222222222,
              "#7201a8"
             ],
             [
              0.3333333333333333,
              "#9c179e"
             ],
             [
              0.4444444444444444,
              "#bd3786"
             ],
             [
              0.5555555555555556,
              "#d8576b"
             ],
             [
              0.6666666666666666,
              "#ed7953"
             ],
             [
              0.7777777777777778,
              "#fb9f3a"
             ],
             [
              0.8888888888888888,
              "#fdca26"
             ],
             [
              1,
              "#f0f921"
             ]
            ],
            "type": "histogram2dcontour"
           }
          ],
          "mesh3d": [
           {
            "colorbar": {
             "outlinewidth": 0,
             "ticks": ""
            },
            "type": "mesh3d"
           }
          ],
          "parcoords": [
           {
            "line": {
             "colorbar": {
              "outlinewidth": 0,
              "ticks": ""
             }
            },
            "type": "parcoords"
           }
          ],
          "scatter": [
           {
            "marker": {
             "colorbar": {
              "outlinewidth": 0,
              "ticks": ""
             }
            },
            "type": "scatter"
           }
          ],
          "scatter3d": [
           {
            "line": {
             "colorbar": {
              "outlinewidth": 0,
              "ticks": ""
             }
            },
            "marker": {
             "colorbar": {
              "outlinewidth": 0,
              "ticks": ""
             }
            },
            "type": "scatter3d"
           }
          ],
          "scattercarpet": [
           {
            "marker": {
             "colorbar": {
              "outlinewidth": 0,
              "ticks": ""
             }
            },
            "type": "scattercarpet"
           }
          ],
          "scattergeo": [
           {
            "marker": {
             "colorbar": {
              "outlinewidth": 0,
              "ticks": ""
             }
            },
            "type": "scattergeo"
           }
          ],
          "scattergl": [
           {
            "marker": {
             "colorbar": {
              "outlinewidth": 0,
              "ticks": ""
             }
            },
            "type": "scattergl"
           }
          ],
          "scattermapbox": [
           {
            "marker": {
             "colorbar": {
              "outlinewidth": 0,
              "ticks": ""
             }
            },
            "type": "scattermapbox"
           }
          ],
          "scatterpolar": [
           {
            "marker": {
             "colorbar": {
              "outlinewidth": 0,
              "ticks": ""
             }
            },
            "type": "scatterpolar"
           }
          ],
          "scatterpolargl": [
           {
            "marker": {
             "colorbar": {
              "outlinewidth": 0,
              "ticks": ""
             }
            },
            "type": "scatterpolargl"
           }
          ],
          "scatterternary": [
           {
            "marker": {
             "colorbar": {
              "outlinewidth": 0,
              "ticks": ""
             }
            },
            "type": "scatterternary"
           }
          ],
          "surface": [
           {
            "colorbar": {
             "outlinewidth": 0,
             "ticks": ""
            },
            "colorscale": [
             [
              0,
              "#0d0887"
             ],
             [
              0.1111111111111111,
              "#46039f"
             ],
             [
              0.2222222222222222,
              "#7201a8"
             ],
             [
              0.3333333333333333,
              "#9c179e"
             ],
             [
              0.4444444444444444,
              "#bd3786"
             ],
             [
              0.5555555555555556,
              "#d8576b"
             ],
             [
              0.6666666666666666,
              "#ed7953"
             ],
             [
              0.7777777777777778,
              "#fb9f3a"
             ],
             [
              0.8888888888888888,
              "#fdca26"
             ],
             [
              1,
              "#f0f921"
             ]
            ],
            "type": "surface"
           }
          ],
          "table": [
           {
            "cells": {
             "fill": {
              "color": "#EBF0F8"
             },
             "line": {
              "color": "white"
             }
            },
            "header": {
             "fill": {
              "color": "#C8D4E3"
             },
             "line": {
              "color": "white"
             }
            },
            "type": "table"
           }
          ]
         },
         "layout": {
          "annotationdefaults": {
           "arrowcolor": "#2a3f5f",
           "arrowhead": 0,
           "arrowwidth": 1
          },
          "colorscale": {
           "diverging": [
            [
             0,
             "#8e0152"
            ],
            [
             0.1,
             "#c51b7d"
            ],
            [
             0.2,
             "#de77ae"
            ],
            [
             0.3,
             "#f1b6da"
            ],
            [
             0.4,
             "#fde0ef"
            ],
            [
             0.5,
             "#f7f7f7"
            ],
            [
             0.6,
             "#e6f5d0"
            ],
            [
             0.7,
             "#b8e186"
            ],
            [
             0.8,
             "#7fbc41"
            ],
            [
             0.9,
             "#4d9221"
            ],
            [
             1,
             "#276419"
            ]
           ],
           "sequential": [
            [
             0,
             "#0d0887"
            ],
            [
             0.1111111111111111,
             "#46039f"
            ],
            [
             0.2222222222222222,
             "#7201a8"
            ],
            [
             0.3333333333333333,
             "#9c179e"
            ],
            [
             0.4444444444444444,
             "#bd3786"
            ],
            [
             0.5555555555555556,
             "#d8576b"
            ],
            [
             0.6666666666666666,
             "#ed7953"
            ],
            [
             0.7777777777777778,
             "#fb9f3a"
            ],
            [
             0.8888888888888888,
             "#fdca26"
            ],
            [
             1,
             "#f0f921"
            ]
           ],
           "sequentialminus": [
            [
             0,
             "#0d0887"
            ],
            [
             0.1111111111111111,
             "#46039f"
            ],
            [
             0.2222222222222222,
             "#7201a8"
            ],
            [
             0.3333333333333333,
             "#9c179e"
            ],
            [
             0.4444444444444444,
             "#bd3786"
            ],
            [
             0.5555555555555556,
             "#d8576b"
            ],
            [
             0.6666666666666666,
             "#ed7953"
            ],
            [
             0.7777777777777778,
             "#fb9f3a"
            ],
            [
             0.8888888888888888,
             "#fdca26"
            ],
            [
             1,
             "#f0f921"
            ]
           ]
          },
          "colorway": [
           "#636efa",
           "#EF553B",
           "#00cc96",
           "#ab63fa",
           "#FFA15A",
           "#19d3f3",
           "#FF6692",
           "#B6E880",
           "#FF97FF",
           "#FECB52"
          ],
          "font": {
           "color": "#2a3f5f"
          },
          "geo": {
           "bgcolor": "white",
           "lakecolor": "white",
           "landcolor": "#E5ECF6",
           "showlakes": true,
           "showland": true,
           "subunitcolor": "white"
          },
          "hoverlabel": {
           "align": "left"
          },
          "hovermode": "closest",
          "mapbox": {
           "style": "light"
          },
          "paper_bgcolor": "white",
          "plot_bgcolor": "#E5ECF6",
          "polar": {
           "angularaxis": {
            "gridcolor": "white",
            "linecolor": "white",
            "ticks": ""
           },
           "bgcolor": "#E5ECF6",
           "radialaxis": {
            "gridcolor": "white",
            "linecolor": "white",
            "ticks": ""
           }
          },
          "scene": {
           "xaxis": {
            "backgroundcolor": "#E5ECF6",
            "gridcolor": "white",
            "gridwidth": 2,
            "linecolor": "white",
            "showbackground": true,
            "ticks": "",
            "zerolinecolor": "white"
           },
           "yaxis": {
            "backgroundcolor": "#E5ECF6",
            "gridcolor": "white",
            "gridwidth": 2,
            "linecolor": "white",
            "showbackground": true,
            "ticks": "",
            "zerolinecolor": "white"
           },
           "zaxis": {
            "backgroundcolor": "#E5ECF6",
            "gridcolor": "white",
            "gridwidth": 2,
            "linecolor": "white",
            "showbackground": true,
            "ticks": "",
            "zerolinecolor": "white"
           }
          },
          "shapedefaults": {
           "line": {
            "color": "#2a3f5f"
           }
          },
          "ternary": {
           "aaxis": {
            "gridcolor": "white",
            "linecolor": "white",
            "ticks": ""
           },
           "baxis": {
            "gridcolor": "white",
            "linecolor": "white",
            "ticks": ""
           },
           "bgcolor": "#E5ECF6",
           "caxis": {
            "gridcolor": "white",
            "linecolor": "white",
            "ticks": ""
           }
          },
          "title": {
           "x": 0.05
          },
          "xaxis": {
           "automargin": true,
           "gridcolor": "white",
           "linecolor": "white",
           "ticks": "",
           "zerolinecolor": "white",
           "zerolinewidth": 2
          },
          "yaxis": {
           "automargin": true,
           "gridcolor": "white",
           "linecolor": "white",
           "ticks": "",
           "zerolinecolor": "white",
           "zerolinewidth": 2
          }
         }
        },
        "title": {
         "text": "Frequency of patient having headaches overtime<br>GAP dataset (n:285)"
        },
        "width": 1920
       }
      },
      "text/html": [
       "<div>\n",
       "        \n",
       "        \n",
       "            <div id=\"54c177cb-b685-427c-8712-d2e6f10b15a3\" class=\"plotly-graph-div\" style=\"height:1080px; width:1920px;\"></div>\n",
       "            <script type=\"text/javascript\">\n",
       "                require([\"plotly\"], function(Plotly) {\n",
       "                    window.PLOTLYENV=window.PLOTLYENV || {};\n",
       "                    \n",
       "                if (document.getElementById(\"54c177cb-b685-427c-8712-d2e6f10b15a3\")) {\n",
       "                    Plotly.newPlot(\n",
       "                        '54c177cb-b685-427c-8712-d2e6f10b15a3',\n",
       "                        [{\"arrangement\": \"perpendicular\", \"link\": {\"color\": [\"rgba(51,160,44,0.2672612419124244)\", \"rgba(51,160,44,0.3779644730092272)\", \"rgba(51,160,44,0.7071067811865475)\", \"rgba(51,160,44,1.0)\", \"rgba(51,160,44,0.31622776601683794)\", \"rgba(255,255,51,0.35355339059327373)\", \"rgba(255,255,51,0.4082482904638631)\", \"rgba(255,255,51,0.7071067811865475)\", \"rgba(255,255,51,0.5)\", \"rgba(255,127,0,0.7071067811865475)\", \"rgba(255,127,0,1.0)\", \"rgba(255,127,0,1.0)\", \"rgba(255,127,0,1.0)\", \"rgba(227,26,28,0.7071067811865475)\", \"rgba(227,26,28,1.0)\", \"rgba(227,26,28,1.0)\", \"rgba(227,26,28,1.0)\", \"rgba(51,160,44,0.2672612419124244)\", \"rgba(51,160,44,0.4472135954999579)\", \"rgba(51,160,44,1.0)\", \"rgba(51,160,44,1.0)\", \"rgba(51,160,44,0.3333333333333333)\", \"rgba(255,255,51,0.4082482904638631)\", \"rgba(255,255,51,0.4472135954999579)\", \"rgba(255,255,51,1.0)\", \"rgba(255,255,51,0.7071067811865475)\", \"rgba(255,127,0,0.5773502691896258)\", \"rgba(255,127,0,1.0)\", \"rgba(255,127,0,1.0)\", \"rgba(255,127,0,0.7071067811865475)\", \"rgba(227,26,28,0.5773502691896258)\", \"rgba(227,26,28,1.0)\", \"rgba(102, 102, 102,0.31622776601683794)\", \"rgba(51,160,44,0.2773500981126146)\", \"rgba(51,160,44,0.4472135954999579)\", \"rgba(51,160,44,0.5)\", \"rgba(51,160,44,1.0)\", \"rgba(51,160,44,0.3333333333333333)\", \"rgba(255,255,51,0.5)\", \"rgba(255,255,51,0.7071067811865475)\", \"rgba(255,255,51,1.0)\", \"rgba(255,255,51,0.5773502691896258)\", \"rgba(255,127,0,1.0)\", \"rgba(255,127,0,1.0)\", \"rgba(255,127,0,1.0)\", \"rgba(227,26,28,1.0)\", \"rgba(102, 102, 102,0.30151134457776363)\"], \"source\": [0.0, 0.0, 0.0, 0.0, 0.0, 1.0, 1.0, 1.0, 1.0, 2.0, 2.0, 2.0, 2.0, 3.0, 3.0, 3.0, 3.0, 4.0, 4.0, 4.0, 4.0, 4.0, 5.0, 5.0, 5.0, 5.0, 6.0, 6.0, 6.0, 6.0, 7.0, 7.0, 8.0, 9.0, 9.0, 9.0, 9.0, 9.0, 10.0, 10.0, 10.0, 10.0, 11.0, 11.0, 11.0, 12.0, 13.0], \"target\": [4.0, 5.0, 6.0, 7.0, 8.0, 4.0, 5.0, 6.0, 8.0, 4.0, 5.0, 7.0, 8.0, 4.0, 5.0, 6.0, 7.0, 9.0, 10.0, 11.0, 12.0, 13.0, 9.0, 10.0, 11.0, 13.0, 9.0, 10.0, 12.0, 13.0, 9.0, 10.0, 13.0, 14.0, 15.0, 16.0, 17.0, 18.0, 14.0, 15.0, 17.0, 18.0, 14.0, 15.0, 18.0, 15.0, 18.0], \"value\": [193, 9, 3, 1, 35, 16, 7, 3, 5, 3, 1, 2, 1, 2, 1, 1, 1, 172, 6, 1, 1, 34, 7, 6, 2, 3, 3, 1, 1, 2, 3, 1, 41, 137, 8, 4, 2, 34, 5, 4, 1, 4, 1, 1, 1, 2, 80]}, \"node\": {\"color\": [\"rgb(51,160,44)\", \"rgb(255,255,51)\", \"rgb(255,127,0)\", \"rgb(227,26,28)\", \"rgb(51,160,44)\", \"rgb(255,255,51)\", \"rgb(255,127,0)\", \"rgb(227,26,28)\", \"rgb(102, 102, 102)\", \"rgb(51,160,44)\", \"rgb(255,255,51)\", \"rgb(255,127,0)\", \"rgb(227,26,28)\", \"rgb(102, 102, 102)\", \"rgb(51,160,44)\", \"rgb(255,255,51)\", \"rgb(255,127,0)\", \"rgb(227,26,28)\", \"rgb(102, 102, 102)\"], \"label\": [\"Never\", \"Rarely\", \"Occasionally\", \"Frequently - Almost Constantly\", \"Never\", \"Rarely\", \"Occasionally\", \"Frequently - Almost Constantly\", \"DropOut\", \"Never\", \"Rarely\", \"Occasionally\", \"Frequently - Almost Constantly\", \"DropOut\", \"Never\", \"Rarely\", \"Occasionally\", \"Frequently - Almost Constantly\", \"Dropout\"], \"line\": {\"color\": \"black\", \"width\": 0.5}, \"pad\": 50, \"thickness\": 20}, \"type\": \"sankey\", \"valuesuffix\": \" Patients\", \"visible\": true}],\n",
       "                        {\"annotations\": [{\"showarrow\": false, \"text\": \"Baseline\", \"x\": -0.02, \"xref\": \"paper\", \"y\": -0.15, \"yref\": \"paper\"}, {\"showarrow\": false, \"text\": \"4-6 Weeks\", \"x\": 0.3, \"xref\": \"paper\", \"y\": -0.15, \"yref\": \"paper\"}, {\"showarrow\": false, \"text\": \"3 Month Follow-up\", \"x\": 0.74, \"xref\": \"paper\", \"y\": -0.15, \"yref\": \"paper\"}, {\"showarrow\": false, \"text\": \"6 Month Follow-up\", \"x\": 1.05, \"xref\": \"paper\", \"y\": -0.15, \"yref\": \"paper\"}], \"font\": {\"size\": 20}, \"height\": 1080, \"template\": {\"data\": {\"bar\": [{\"error_x\": {\"color\": \"#2a3f5f\"}, \"error_y\": {\"color\": \"#2a3f5f\"}, \"marker\": {\"line\": {\"color\": \"#E5ECF6\", \"width\": 0.5}}, \"type\": \"bar\"}], \"barpolar\": [{\"marker\": {\"line\": {\"color\": \"#E5ECF6\", \"width\": 0.5}}, \"type\": \"barpolar\"}], \"carpet\": [{\"aaxis\": {\"endlinecolor\": \"#2a3f5f\", \"gridcolor\": \"white\", \"linecolor\": \"white\", \"minorgridcolor\": \"white\", \"startlinecolor\": \"#2a3f5f\"}, \"baxis\": {\"endlinecolor\": \"#2a3f5f\", \"gridcolor\": \"white\", \"linecolor\": \"white\", \"minorgridcolor\": \"white\", \"startlinecolor\": \"#2a3f5f\"}, \"type\": \"carpet\"}], \"choropleth\": [{\"colorbar\": {\"outlinewidth\": 0, \"ticks\": \"\"}, \"type\": \"choropleth\"}], \"contour\": [{\"colorbar\": {\"outlinewidth\": 0, \"ticks\": \"\"}, \"colorscale\": [[0.0, \"#0d0887\"], [0.1111111111111111, \"#46039f\"], [0.2222222222222222, \"#7201a8\"], [0.3333333333333333, \"#9c179e\"], [0.4444444444444444, \"#bd3786\"], [0.5555555555555556, \"#d8576b\"], [0.6666666666666666, \"#ed7953\"], [0.7777777777777778, \"#fb9f3a\"], [0.8888888888888888, \"#fdca26\"], [1.0, \"#f0f921\"]], \"type\": \"contour\"}], \"contourcarpet\": [{\"colorbar\": {\"outlinewidth\": 0, \"ticks\": \"\"}, \"type\": \"contourcarpet\"}], \"heatmap\": [{\"colorbar\": {\"outlinewidth\": 0, \"ticks\": \"\"}, \"colorscale\": [[0.0, \"#0d0887\"], [0.1111111111111111, \"#46039f\"], [0.2222222222222222, \"#7201a8\"], [0.3333333333333333, \"#9c179e\"], [0.4444444444444444, \"#bd3786\"], [0.5555555555555556, \"#d8576b\"], [0.6666666666666666, \"#ed7953\"], [0.7777777777777778, \"#fb9f3a\"], [0.8888888888888888, \"#fdca26\"], [1.0, \"#f0f921\"]], \"type\": \"heatmap\"}], \"heatmapgl\": [{\"colorbar\": {\"outlinewidth\": 0, \"ticks\": \"\"}, \"colorscale\": [[0.0, \"#0d0887\"], [0.1111111111111111, \"#46039f\"], [0.2222222222222222, \"#7201a8\"], [0.3333333333333333, \"#9c179e\"], [0.4444444444444444, \"#bd3786\"], [0.5555555555555556, \"#d8576b\"], [0.6666666666666666, \"#ed7953\"], [0.7777777777777778, \"#fb9f3a\"], [0.8888888888888888, \"#fdca26\"], [1.0, \"#f0f921\"]], \"type\": \"heatmapgl\"}], \"histogram\": [{\"marker\": {\"colorbar\": {\"outlinewidth\": 0, \"ticks\": \"\"}}, \"type\": \"histogram\"}], \"histogram2d\": [{\"colorbar\": {\"outlinewidth\": 0, \"ticks\": \"\"}, \"colorscale\": [[0.0, \"#0d0887\"], [0.1111111111111111, \"#46039f\"], [0.2222222222222222, \"#7201a8\"], [0.3333333333333333, \"#9c179e\"], [0.4444444444444444, \"#bd3786\"], [0.5555555555555556, \"#d8576b\"], [0.6666666666666666, \"#ed7953\"], [0.7777777777777778, \"#fb9f3a\"], [0.8888888888888888, \"#fdca26\"], [1.0, \"#f0f921\"]], \"type\": \"histogram2d\"}], \"histogram2dcontour\": [{\"colorbar\": {\"outlinewidth\": 0, \"ticks\": \"\"}, \"colorscale\": [[0.0, \"#0d0887\"], [0.1111111111111111, \"#46039f\"], [0.2222222222222222, \"#7201a8\"], [0.3333333333333333, \"#9c179e\"], [0.4444444444444444, \"#bd3786\"], [0.5555555555555556, \"#d8576b\"], [0.6666666666666666, \"#ed7953\"], [0.7777777777777778, \"#fb9f3a\"], [0.8888888888888888, \"#fdca26\"], [1.0, \"#f0f921\"]], \"type\": \"histogram2dcontour\"}], \"mesh3d\": [{\"colorbar\": {\"outlinewidth\": 0, \"ticks\": \"\"}, \"type\": \"mesh3d\"}], \"parcoords\": [{\"line\": {\"colorbar\": {\"outlinewidth\": 0, \"ticks\": \"\"}}, \"type\": \"parcoords\"}], \"scatter\": [{\"marker\": {\"colorbar\": {\"outlinewidth\": 0, \"ticks\": \"\"}}, \"type\": \"scatter\"}], \"scatter3d\": [{\"line\": {\"colorbar\": {\"outlinewidth\": 0, \"ticks\": \"\"}}, \"marker\": {\"colorbar\": {\"outlinewidth\": 0, \"ticks\": \"\"}}, \"type\": \"scatter3d\"}], \"scattercarpet\": [{\"marker\": {\"colorbar\": {\"outlinewidth\": 0, \"ticks\": \"\"}}, \"type\": \"scattercarpet\"}], \"scattergeo\": [{\"marker\": {\"colorbar\": {\"outlinewidth\": 0, \"ticks\": \"\"}}, \"type\": \"scattergeo\"}], \"scattergl\": [{\"marker\": {\"colorbar\": {\"outlinewidth\": 0, \"ticks\": \"\"}}, \"type\": \"scattergl\"}], \"scattermapbox\": [{\"marker\": {\"colorbar\": {\"outlinewidth\": 0, \"ticks\": \"\"}}, \"type\": \"scattermapbox\"}], \"scatterpolar\": [{\"marker\": {\"colorbar\": {\"outlinewidth\": 0, \"ticks\": \"\"}}, \"type\": \"scatterpolar\"}], \"scatterpolargl\": [{\"marker\": {\"colorbar\": {\"outlinewidth\": 0, \"ticks\": \"\"}}, \"type\": \"scatterpolargl\"}], \"scatterternary\": [{\"marker\": {\"colorbar\": {\"outlinewidth\": 0, \"ticks\": \"\"}}, \"type\": \"scatterternary\"}], \"surface\": [{\"colorbar\": {\"outlinewidth\": 0, \"ticks\": \"\"}, \"colorscale\": [[0.0, \"#0d0887\"], [0.1111111111111111, \"#46039f\"], [0.2222222222222222, \"#7201a8\"], [0.3333333333333333, \"#9c179e\"], [0.4444444444444444, \"#bd3786\"], [0.5555555555555556, \"#d8576b\"], [0.6666666666666666, \"#ed7953\"], [0.7777777777777778, \"#fb9f3a\"], [0.8888888888888888, \"#fdca26\"], [1.0, \"#f0f921\"]], \"type\": \"surface\"}], \"table\": [{\"cells\": {\"fill\": {\"color\": \"#EBF0F8\"}, \"line\": {\"color\": \"white\"}}, \"header\": {\"fill\": {\"color\": \"#C8D4E3\"}, \"line\": {\"color\": \"white\"}}, \"type\": \"table\"}]}, \"layout\": {\"annotationdefaults\": {\"arrowcolor\": \"#2a3f5f\", \"arrowhead\": 0, \"arrowwidth\": 1}, \"colorscale\": {\"diverging\": [[0, \"#8e0152\"], [0.1, \"#c51b7d\"], [0.2, \"#de77ae\"], [0.3, \"#f1b6da\"], [0.4, \"#fde0ef\"], [0.5, \"#f7f7f7\"], [0.6, \"#e6f5d0\"], [0.7, \"#b8e186\"], [0.8, \"#7fbc41\"], [0.9, \"#4d9221\"], [1, \"#276419\"]], \"sequential\": [[0.0, \"#0d0887\"], [0.1111111111111111, \"#46039f\"], [0.2222222222222222, \"#7201a8\"], [0.3333333333333333, \"#9c179e\"], [0.4444444444444444, \"#bd3786\"], [0.5555555555555556, \"#d8576b\"], [0.6666666666666666, \"#ed7953\"], [0.7777777777777778, \"#fb9f3a\"], [0.8888888888888888, \"#fdca26\"], [1.0, \"#f0f921\"]], \"sequentialminus\": [[0.0, \"#0d0887\"], [0.1111111111111111, \"#46039f\"], [0.2222222222222222, \"#7201a8\"], [0.3333333333333333, \"#9c179e\"], [0.4444444444444444, \"#bd3786\"], [0.5555555555555556, \"#d8576b\"], [0.6666666666666666, \"#ed7953\"], [0.7777777777777778, \"#fb9f3a\"], [0.8888888888888888, \"#fdca26\"], [1.0, \"#f0f921\"]]}, \"colorway\": [\"#636efa\", \"#EF553B\", \"#00cc96\", \"#ab63fa\", \"#FFA15A\", \"#19d3f3\", \"#FF6692\", \"#B6E880\", \"#FF97FF\", \"#FECB52\"], \"font\": {\"color\": \"#2a3f5f\"}, \"geo\": {\"bgcolor\": \"white\", \"lakecolor\": \"white\", \"landcolor\": \"#E5ECF6\", \"showlakes\": true, \"showland\": true, \"subunitcolor\": \"white\"}, \"hoverlabel\": {\"align\": \"left\"}, \"hovermode\": \"closest\", \"mapbox\": {\"style\": \"light\"}, \"paper_bgcolor\": \"white\", \"plot_bgcolor\": \"#E5ECF6\", \"polar\": {\"angularaxis\": {\"gridcolor\": \"white\", \"linecolor\": \"white\", \"ticks\": \"\"}, \"bgcolor\": \"#E5ECF6\", \"radialaxis\": {\"gridcolor\": \"white\", \"linecolor\": \"white\", \"ticks\": \"\"}}, \"scene\": {\"xaxis\": {\"backgroundcolor\": \"#E5ECF6\", \"gridcolor\": \"white\", \"gridwidth\": 2, \"linecolor\": \"white\", \"showbackground\": true, \"ticks\": \"\", \"zerolinecolor\": \"white\"}, \"yaxis\": {\"backgroundcolor\": \"#E5ECF6\", \"gridcolor\": \"white\", \"gridwidth\": 2, \"linecolor\": \"white\", \"showbackground\": true, \"ticks\": \"\", \"zerolinecolor\": \"white\"}, \"zaxis\": {\"backgroundcolor\": \"#E5ECF6\", \"gridcolor\": \"white\", \"gridwidth\": 2, \"linecolor\": \"white\", \"showbackground\": true, \"ticks\": \"\", \"zerolinecolor\": \"white\"}}, \"shapedefaults\": {\"line\": {\"color\": \"#2a3f5f\"}}, \"ternary\": {\"aaxis\": {\"gridcolor\": \"white\", \"linecolor\": \"white\", \"ticks\": \"\"}, \"baxis\": {\"gridcolor\": \"white\", \"linecolor\": \"white\", \"ticks\": \"\"}, \"bgcolor\": \"#E5ECF6\", \"caxis\": {\"gridcolor\": \"white\", \"linecolor\": \"white\", \"ticks\": \"\"}}, \"title\": {\"x\": 0.05}, \"xaxis\": {\"automargin\": true, \"gridcolor\": \"white\", \"linecolor\": \"white\", \"ticks\": \"\", \"zerolinecolor\": \"white\", \"zerolinewidth\": 2}, \"yaxis\": {\"automargin\": true, \"gridcolor\": \"white\", \"linecolor\": \"white\", \"ticks\": \"\", \"zerolinecolor\": \"white\", \"zerolinewidth\": 2}}}, \"title\": {\"text\": \"Frequency of patient having headaches overtime<br>GAP dataset (n:285)\"}, \"width\": 1920},\n",
       "                        {\"responsive\": true}\n",
       "                    ).then(function(){\n",
       "                            \n",
       "var gd = document.getElementById('54c177cb-b685-427c-8712-d2e6f10b15a3');\n",
       "var x = new MutationObserver(function (mutations, observer) {{\n",
       "        var display = window.getComputedStyle(gd).display;\n",
       "        if (!display || display === 'none') {{\n",
       "            console.log([gd, 'removed!']);\n",
       "            Plotly.purge(gd);\n",
       "            observer.disconnect();\n",
       "        }}\n",
       "}});\n",
       "\n",
       "// Listen for the removal of the full notebook cells\n",
       "var notebookContainer = gd.closest('#notebook-container');\n",
       "if (notebookContainer) {{\n",
       "    x.observe(notebookContainer, {childList: true});\n",
       "}}\n",
       "\n",
       "// Listen for the clearing of the current output cell\n",
       "var outputEl = gd.closest('.output');\n",
       "if (outputEl) {{\n",
       "    x.observe(outputEl, {childList: true});\n",
       "}}\n",
       "\n",
       "                        })\n",
       "                };\n",
       "                });\n",
       "            </script>\n",
       "        </div>"
      ]
     },
     "metadata": {},
     "output_type": "display_data"
    }
   ],
   "source": [
    "label = [\"Never\",\"Rarely\",\"Occasionally\",\"Frequently - Almost Constantly\",\n",
    "         \"Never\",\"Rarely\",\"Occasionally\",\"Frequently - Almost Constantly\",\"DropOut\",\n",
    "         \"Never\",\"Rarely\",\"Occasionally\",\"Frequently - Almost Constantly\",\"DropOut\",\n",
    "         \"Never\",\"Rarely\",\"Occasionally\",\"Frequently - Almost Constantly\",\"Dropout\"]\n",
    "title = \"Frequency of patient having headaches overtime<br>GAP dataset (n:285)\"\n",
    "\n",
    "source , target, value,node,link = get_link(results[2],4)\n",
    "ploting(label,title,link,node)"
   ]
  },
  {
   "cell_type": "code",
   "execution_count": null,
   "metadata": {},
   "outputs": [],
   "source": []
  }
 ],
 "metadata": {
  "kernelspec": {
   "display_name": "Python 3",
   "language": "python",
   "name": "python3"
  },
  "language_info": {
   "codemirror_mode": {
    "name": "ipython",
    "version": 3
   },
   "file_extension": ".py",
   "mimetype": "text/x-python",
   "name": "python",
   "nbconvert_exporter": "python",
   "pygments_lexer": "ipython3",
   "version": "3.7.3"
  }
 },
 "nbformat": 4,
 "nbformat_minor": 2
}
